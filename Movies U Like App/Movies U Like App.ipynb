{
 "cells": [
  {
   "cell_type": "code",
   "execution_count": 9,
   "id": "f0aacd03-3c3e-484e-a4e8-5ec43a0059b1",
   "metadata": {},
   "outputs": [],
   "source": [
    "import warnings\n",
    "import numpy as numps\n",
    "import pandas as ajo"
   ]
  },
  {
   "cell_type": "code",
   "execution_count": 10,
   "id": "16c0e42e-b661-4e3c-aceb-65f4c4816029",
   "metadata": {},
   "outputs": [
    {
     "data": {
      "text/plain": [
       "(100000, 4)"
      ]
     },
     "execution_count": 10,
     "metadata": {},
     "output_type": "execute_result"
    }
   ],
   "source": [
    "##Ignore warnings\n",
    "warnings.filterwarnings('ignore')\n",
    "##Get the movies from u.data file\n",
    "categorical_names = [\"user_id\", \"item_id\", \"rating\", \"timestamp\"]\n",
    "u_data = ajo.read_csv(r\"C:\\Users\\SDKH\\Downloads\\ml-100k\\ml-100k\\u.data\", sep=\"\\t\", names=categorical_names)\n",
    "u_data.head()\n",
    "u_data.shape"
   ]
  },
  {
   "cell_type": "code",
   "execution_count": 11,
   "id": "4f925f4b-85bb-48cf-8975-a1dd9d8bbb49",
   "metadata": {},
   "outputs": [
    {
     "data": {
      "text/plain": [
       "943"
      ]
     },
     "execution_count": 11,
     "metadata": {},
     "output_type": "execute_result"
    }
   ],
   "source": [
    "u_data[\"user_id\"].nunique()\n"
   ]
  },
  {
   "cell_type": "code",
   "execution_count": 12,
   "id": "91f44a10-cd19-4d67-ba7a-055fb77ed1ab",
   "metadata": {},
   "outputs": [
    {
     "data": {
      "text/plain": [
       "1682"
      ]
     },
     "execution_count": 12,
     "metadata": {},
     "output_type": "execute_result"
    }
   ],
   "source": [
    "u_data[\"item_id\"].nunique()"
   ]
  },
  {
   "cell_type": "code",
   "execution_count": 27,
   "id": "0ec64170-fd74-455f-ad39-b3ffd6bcf45e",
   "metadata": {},
   "outputs": [],
   "source": [
    "\n",
    "all_movies = ajo.read_csv(r\"C:\\Users\\SDKH\\Downloads\\ml-100k\\ml-100k\\u.item\",sep='|',header=None,encoding='latin-1')"
   ]
  },
  {
   "cell_type": "code",
   "execution_count": 32,
   "id": "a56743fd-670e-461c-9d62-744f750b490e",
   "metadata": {},
   "outputs": [
    {
     "data": {
      "text/plain": [
       "(1682, 2)"
      ]
     },
     "execution_count": 32,
     "metadata": {},
     "output_type": "execute_result"
    }
   ],
   "source": [
    "all_movies.shape"
   ]
  },
  {
   "cell_type": "code",
   "execution_count": 36,
   "id": "d656faa0-d209-4b59-b64b-734c886f6171",
   "metadata": {},
   "outputs": [],
   "source": [
    "all_movies = all_movies.iloc[:,[0,1]]"
   ]
  },
  {
   "cell_type": "code",
   "execution_count": 37,
   "id": "3350686b-cc56-43a8-867e-92a7a4f7fefa",
   "metadata": {},
   "outputs": [],
   "source": [
    "all_movies.columns = [\"item_id\", \"title\"]"
   ]
  },
  {
   "cell_type": "code",
   "execution_count": 47,
   "id": "7bf82345-4e05-4cd4-b148-bbab55c27499",
   "metadata": {},
   "outputs": [],
   "source": [
    "x_data = ajo.merge(u_data, all_movies, on=\"item_id\")"
   ]
  },
  {
   "cell_type": "code",
   "execution_count": 48,
   "id": "5fb31bda-a9ab-4252-a28a-f67896b00f1e",
   "metadata": {},
   "outputs": [
    {
     "name": "stdout",
     "output_type": "stream",
     "text": [
      "       user_id  item_id  rating  timestamp                         title\n",
      "0          196      242       3  881250949                  Kolya (1996)\n",
      "1          186      302       3  891717742      L.A. Confidential (1997)\n",
      "2           22      377       1  878887116           Heavyweights (1994)\n",
      "3          244       51       2  880606923    Legends of the Fall (1994)\n",
      "4          166      346       1  886397596           Jackie Brown (1997)\n",
      "...        ...      ...     ...        ...                           ...\n",
      "99995      880      476       3  880175444  First Wives Club, The (1996)\n",
      "99996      716      204       5  879795543     Back to the Future (1985)\n",
      "99997      276     1090       1  874795795                 Sliver (1993)\n",
      "99998       13      225       2  882399156         101 Dalmatians (1996)\n",
      "99999       12      203       3  879959583             Unforgiven (1992)\n",
      "\n",
      "[100000 rows x 5 columns]\n"
     ]
    }
   ],
   "source": [
    "print(x_data)"
   ]
  },
  {
   "cell_type": "code",
   "execution_count": 49,
   "id": "8ab18049-fc1b-4bd7-af27-ec748f76c495",
   "metadata": {},
   "outputs": [],
   "source": [
    "import matplotlib.pyplot as plots\n",
    "import seaborn as susybaka"
   ]
  },
  {
   "cell_type": "code",
   "execution_count": 46,
   "id": "a23ffcdc-027a-4d07-9975-f84561c7e0ee",
   "metadata": {},
   "outputs": [
    {
     "data": {
      "text/html": [
       "<div>\n",
       "<style scoped>\n",
       "    .dataframe tbody tr th:only-of-type {\n",
       "        vertical-align: middle;\n",
       "    }\n",
       "\n",
       "    .dataframe tbody tr th {\n",
       "        vertical-align: top;\n",
       "    }\n",
       "\n",
       "    .dataframe thead th {\n",
       "        text-align: right;\n",
       "    }\n",
       "</style>\n",
       "<table border=\"1\" class=\"dataframe\">\n",
       "  <thead>\n",
       "    <tr style=\"text-align: right;\">\n",
       "      <th></th>\n",
       "      <th>user_id</th>\n",
       "      <th>item_id</th>\n",
       "      <th>rating</th>\n",
       "      <th>timestamp</th>\n",
       "    </tr>\n",
       "  </thead>\n",
       "  <tbody>\n",
       "    <tr>\n",
       "      <th>0</th>\n",
       "      <td>196</td>\n",
       "      <td>242</td>\n",
       "      <td>3</td>\n",
       "      <td>881250949</td>\n",
       "    </tr>\n",
       "    <tr>\n",
       "      <th>1</th>\n",
       "      <td>186</td>\n",
       "      <td>302</td>\n",
       "      <td>3</td>\n",
       "      <td>891717742</td>\n",
       "    </tr>\n",
       "    <tr>\n",
       "      <th>2</th>\n",
       "      <td>22</td>\n",
       "      <td>377</td>\n",
       "      <td>1</td>\n",
       "      <td>878887116</td>\n",
       "    </tr>\n",
       "    <tr>\n",
       "      <th>3</th>\n",
       "      <td>244</td>\n",
       "      <td>51</td>\n",
       "      <td>2</td>\n",
       "      <td>880606923</td>\n",
       "    </tr>\n",
       "    <tr>\n",
       "      <th>4</th>\n",
       "      <td>166</td>\n",
       "      <td>346</td>\n",
       "      <td>1</td>\n",
       "      <td>886397596</td>\n",
       "    </tr>\n",
       "    <tr>\n",
       "      <th>...</th>\n",
       "      <td>...</td>\n",
       "      <td>...</td>\n",
       "      <td>...</td>\n",
       "      <td>...</td>\n",
       "    </tr>\n",
       "    <tr>\n",
       "      <th>99995</th>\n",
       "      <td>880</td>\n",
       "      <td>476</td>\n",
       "      <td>3</td>\n",
       "      <td>880175444</td>\n",
       "    </tr>\n",
       "    <tr>\n",
       "      <th>99996</th>\n",
       "      <td>716</td>\n",
       "      <td>204</td>\n",
       "      <td>5</td>\n",
       "      <td>879795543</td>\n",
       "    </tr>\n",
       "    <tr>\n",
       "      <th>99997</th>\n",
       "      <td>276</td>\n",
       "      <td>1090</td>\n",
       "      <td>1</td>\n",
       "      <td>874795795</td>\n",
       "    </tr>\n",
       "    <tr>\n",
       "      <th>99998</th>\n",
       "      <td>13</td>\n",
       "      <td>225</td>\n",
       "      <td>2</td>\n",
       "      <td>882399156</td>\n",
       "    </tr>\n",
       "    <tr>\n",
       "      <th>99999</th>\n",
       "      <td>12</td>\n",
       "      <td>203</td>\n",
       "      <td>3</td>\n",
       "      <td>879959583</td>\n",
       "    </tr>\n",
       "  </tbody>\n",
       "</table>\n",
       "<p>100000 rows × 4 columns</p>\n",
       "</div>"
      ],
      "text/plain": [
       "       user_id  item_id  rating  timestamp\n",
       "0          196      242       3  881250949\n",
       "1          186      302       3  891717742\n",
       "2           22      377       1  878887116\n",
       "3          244       51       2  880606923\n",
       "4          166      346       1  886397596\n",
       "...        ...      ...     ...        ...\n",
       "99995      880      476       3  880175444\n",
       "99996      716      204       5  879795543\n",
       "99997      276     1090       1  874795795\n",
       "99998       13      225       2  882399156\n",
       "99999       12      203       3  879959583\n",
       "\n",
       "[100000 rows x 4 columns]"
      ]
     },
     "execution_count": 46,
     "metadata": {},
     "output_type": "execute_result"
    }
   ],
   "source": [
    "u_data"
   ]
  },
  {
   "cell_type": "code",
   "execution_count": 50,
   "id": "9fd59366-1547-4954-ad28-238a885b2ec5",
   "metadata": {},
   "outputs": [],
   "source": [
    "quality = ajo.DataFrame(x_data.groupby('title').mean()['rating'])"
   ]
  },
  {
   "cell_type": "code",
   "execution_count": 51,
   "id": "be12aeba-ae31-4bcf-b1f7-c26fd5e090ba",
   "metadata": {},
   "outputs": [],
   "source": [
    "quality['No. of reviews'] = x_data.groupby(\"title\").count()['rating']"
   ]
  },
  {
   "cell_type": "code",
   "execution_count": 52,
   "id": "2ab12e63-ba8a-486e-a7ed-ed7a3d7e86f4",
   "metadata": {},
   "outputs": [
    {
     "data": {
      "text/html": [
       "<div>\n",
       "<style scoped>\n",
       "    .dataframe tbody tr th:only-of-type {\n",
       "        vertical-align: middle;\n",
       "    }\n",
       "\n",
       "    .dataframe tbody tr th {\n",
       "        vertical-align: top;\n",
       "    }\n",
       "\n",
       "    .dataframe thead th {\n",
       "        text-align: right;\n",
       "    }\n",
       "</style>\n",
       "<table border=\"1\" class=\"dataframe\">\n",
       "  <thead>\n",
       "    <tr style=\"text-align: right;\">\n",
       "      <th></th>\n",
       "      <th>rating</th>\n",
       "      <th>No. of reviews</th>\n",
       "    </tr>\n",
       "    <tr>\n",
       "      <th>title</th>\n",
       "      <th></th>\n",
       "      <th></th>\n",
       "    </tr>\n",
       "  </thead>\n",
       "  <tbody>\n",
       "    <tr>\n",
       "      <th>Aiqing wansui (1994)</th>\n",
       "      <td>5.0</td>\n",
       "      <td>1</td>\n",
       "    </tr>\n",
       "    <tr>\n",
       "      <th>Someone Else's America (1995)</th>\n",
       "      <td>5.0</td>\n",
       "      <td>1</td>\n",
       "    </tr>\n",
       "    <tr>\n",
       "      <th>Star Kid (1997)</th>\n",
       "      <td>5.0</td>\n",
       "      <td>3</td>\n",
       "    </tr>\n",
       "    <tr>\n",
       "      <th>Entertaining Angels: The Dorothy Day Story (1996)</th>\n",
       "      <td>5.0</td>\n",
       "      <td>1</td>\n",
       "    </tr>\n",
       "    <tr>\n",
       "      <th>Saint of Fort Washington, The (1993)</th>\n",
       "      <td>5.0</td>\n",
       "      <td>2</td>\n",
       "    </tr>\n",
       "    <tr>\n",
       "      <th>...</th>\n",
       "      <td>...</td>\n",
       "      <td>...</td>\n",
       "    </tr>\n",
       "    <tr>\n",
       "      <th>New Age, The (1994)</th>\n",
       "      <td>1.0</td>\n",
       "      <td>1</td>\n",
       "    </tr>\n",
       "    <tr>\n",
       "      <th>Very Natural Thing, A (1974)</th>\n",
       "      <td>1.0</td>\n",
       "      <td>1</td>\n",
       "    </tr>\n",
       "    <tr>\n",
       "      <th>Vermont Is For Lovers (1992)</th>\n",
       "      <td>1.0</td>\n",
       "      <td>1</td>\n",
       "    </tr>\n",
       "    <tr>\n",
       "      <th>Death in the Garden (Mort en ce jardin, La) (1956)</th>\n",
       "      <td>1.0</td>\n",
       "      <td>1</td>\n",
       "    </tr>\n",
       "    <tr>\n",
       "      <th>3 Ninjas: High Noon At Mega Mountain (1998)</th>\n",
       "      <td>1.0</td>\n",
       "      <td>5</td>\n",
       "    </tr>\n",
       "  </tbody>\n",
       "</table>\n",
       "<p>1664 rows × 2 columns</p>\n",
       "</div>"
      ],
      "text/plain": [
       "                                                    rating  No. of reviews\n",
       "title                                                                     \n",
       "Aiqing wansui (1994)                                   5.0               1\n",
       "Someone Else's America (1995)                          5.0               1\n",
       "Star Kid (1997)                                        5.0               3\n",
       "Entertaining Angels: The Dorothy Day Story (1996)      5.0               1\n",
       "Saint of Fort Washington, The (1993)                   5.0               2\n",
       "...                                                    ...             ...\n",
       "New Age, The (1994)                                    1.0               1\n",
       "Very Natural Thing, A (1974)                           1.0               1\n",
       "Vermont Is For Lovers (1992)                           1.0               1\n",
       "Death in the Garden (Mort en ce jardin, La) (1956)     1.0               1\n",
       "3 Ninjas: High Noon At Mega Mountain (1998)            1.0               5\n",
       "\n",
       "[1664 rows x 2 columns]"
      ]
     },
     "execution_count": 52,
     "metadata": {},
     "output_type": "execute_result"
    }
   ],
   "source": [
    "quality.sort_values(by='rating', ascending=False)"
   ]
  },
  {
   "cell_type": "code",
   "execution_count": 53,
   "id": "0dc52a1d-c4b8-4e74-a69d-a7c6df38cf85",
   "metadata": {},
   "outputs": [
    {
     "data": {
      "image/png": "[encoded data removed]",
      "text/plain": [
       "<Figure size 1000x800 with 1 Axes>"
      ]
     },
     "metadata": {},
     "output_type": "display_data"
    }
   ],
   "source": [
    "plots.figure(figsize=(10,8))\n",
    "plots.hist(quality['No. of reviews'], bins=100)\n",
    "plots.show()"
   ]
  },
  {
   "cell_type": "code",
   "execution_count": 54,
   "id": "f7d79ff0-7589-4c0e-96b4-d00f0121e3e6",
   "metadata": {},
   "outputs": [
    {
     "data": {
      "image/png": "[encoded data removed]",
      "text/plain": [
       "<Figure size 640x480 with 1 Axes>"
      ]
     },
     "metadata": {},
     "output_type": "display_data"
    }
   ],
   "source": [
    "plots.hist(quality['rating'], bins = 90)\n",
    "plots.show()"
   ]
  },
  {
   "cell_type": "code",
   "execution_count": 55,
   "id": "30a3f72e-1b9d-450f-9a83-41ece37df4f0",
   "metadata": {},
   "outputs": [
    {
     "data": {
      "text/plain": [
       "<seaborn.axisgrid.JointGrid at 0x2c67a4037a0>"
      ]
     },
     "execution_count": 55,
     "metadata": {},
     "output_type": "execute_result"
    },
    {
     "data": {
      "image/png": "[encoded data removed]",
      "text/plain": [
       "<Figure size 600x600 with 3 Axes>"
      ]
     },
     "metadata": {},
     "output_type": "display_data"
    }
   ],
   "source": [
    "susybaka.jointplot(x='rating', y='No. of reviews', data=quality, alpha=0.3)"
   ]
  },
  {
   "cell_type": "code",
   "execution_count": null,
   "id": "8933c4fa-42dc-4d17-98d6-8f1726e79b3f",
   "metadata": {},
   "outputs": [],
   "source": [
    "#Recommendation of movies based on film choices of similar movie viewers"
   ]
  },
  {
   "cell_type": "code",
   "execution_count": 73,
   "id": "5d22af67-b64c-4bb7-86fc-f77a241939ba",
   "metadata": {},
   "outputs": [
    {
     "name": "stdout",
     "output_type": "stream",
     "text": [
      "title    'Til There Was You (1997)  1-900 (1994)  101 Dalmatians (1996)  \\\n",
      "user_id                                                                   \n",
      "1                              NaN           NaN                    2.0   \n",
      "2                              NaN           NaN                    NaN   \n",
      "3                              NaN           NaN                    NaN   \n",
      "4                              NaN           NaN                    NaN   \n",
      "5                              NaN           NaN                    2.0   \n",
      "...                            ...           ...                    ...   \n",
      "939                            NaN           NaN                    NaN   \n",
      "940                            NaN           NaN                    NaN   \n",
      "941                            NaN           NaN                    NaN   \n",
      "942                            NaN           NaN                    NaN   \n",
      "943                            NaN           NaN                    NaN   \n",
      "\n",
      "title    12 Angry Men (1957)  187 (1997)  2 Days in the Valley (1996)  \\\n",
      "user_id                                                                 \n",
      "1                        5.0         NaN                          NaN   \n",
      "2                        NaN         NaN                          NaN   \n",
      "3                        NaN         2.0                          NaN   \n",
      "4                        NaN         NaN                          NaN   \n",
      "5                        NaN         NaN                          NaN   \n",
      "...                      ...         ...                          ...   \n",
      "939                      NaN         NaN                          NaN   \n",
      "940                      NaN         NaN                          NaN   \n",
      "941                      NaN         NaN                          NaN   \n",
      "942                      NaN         NaN                          NaN   \n",
      "943                      NaN         NaN                          2.0   \n",
      "\n",
      "title    20,000 Leagues Under the Sea (1954)  2001: A Space Odyssey (1968)  \\\n",
      "user_id                                                                      \n",
      "1                                        3.0                           4.0   \n",
      "2                                        NaN                           NaN   \n",
      "3                                        NaN                           NaN   \n",
      "4                                        NaN                           NaN   \n",
      "5                                        NaN                           4.0   \n",
      "...                                      ...                           ...   \n",
      "939                                      NaN                           NaN   \n",
      "940                                      NaN                           NaN   \n",
      "941                                      NaN                           NaN   \n",
      "942                                      NaN                           3.0   \n",
      "943                                      NaN                           NaN   \n",
      "\n",
      "title    3 Ninjas: High Noon At Mega Mountain (1998)  39 Steps, The (1935)  \\\n",
      "user_id                                                                      \n",
      "1                                                NaN                   NaN   \n",
      "2                                                1.0                   NaN   \n",
      "3                                                NaN                   NaN   \n",
      "4                                                NaN                   NaN   \n",
      "5                                                NaN                   NaN   \n",
      "...                                              ...                   ...   \n",
      "939                                              NaN                   NaN   \n",
      "940                                              NaN                   NaN   \n",
      "941                                              NaN                   NaN   \n",
      "942                                              NaN                   3.0   \n",
      "943                                              NaN                   NaN   \n",
      "\n",
      "title    ...  Yankee Zulu (1994)  Year of the Horse (1997)  \\\n",
      "user_id  ...                                                 \n",
      "1        ...                 NaN                       NaN   \n",
      "2        ...                 NaN                       NaN   \n",
      "3        ...                 NaN                       NaN   \n",
      "4        ...                 NaN                       NaN   \n",
      "5        ...                 NaN                       NaN   \n",
      "...      ...                 ...                       ...   \n",
      "939      ...                 NaN                       NaN   \n",
      "940      ...                 NaN                       NaN   \n",
      "941      ...                 NaN                       NaN   \n",
      "942      ...                 NaN                       NaN   \n",
      "943      ...                 NaN                       NaN   \n",
      "\n",
      "title    You So Crazy (1994)  Young Frankenstein (1974)  Young Guns (1988)  \\\n",
      "user_id                                                                      \n",
      "1                        NaN                        5.0                3.0   \n",
      "2                        NaN                        NaN                NaN   \n",
      "3                        NaN                        NaN                NaN   \n",
      "4                        NaN                        NaN                NaN   \n",
      "5                        NaN                        4.0                NaN   \n",
      "...                      ...                        ...                ...   \n",
      "939                      NaN                        NaN                NaN   \n",
      "940                      NaN                        NaN                NaN   \n",
      "941                      NaN                        NaN                NaN   \n",
      "942                      NaN                        NaN                NaN   \n",
      "943                      NaN                        NaN                4.0   \n",
      "\n",
      "title    Young Guns II (1990)  Young Poisoner's Handbook, The (1995)  \\\n",
      "user_id                                                                \n",
      "1                         NaN                                    NaN   \n",
      "2                         NaN                                    NaN   \n",
      "3                         NaN                                    NaN   \n",
      "4                         NaN                                    NaN   \n",
      "5                         NaN                                    NaN   \n",
      "...                       ...                                    ...   \n",
      "939                       NaN                                    NaN   \n",
      "940                       NaN                                    NaN   \n",
      "941                       NaN                                    NaN   \n",
      "942                       NaN                                    NaN   \n",
      "943                       3.0                                    NaN   \n",
      "\n",
      "title    Zeus and Roxanne (1997)  unknown  Á köldum klaka (Cold Fever) (1994)  \n",
      "user_id                                                                        \n",
      "1                            NaN      4.0                                 NaN  \n",
      "2                            NaN      NaN                                 NaN  \n",
      "3                            NaN      NaN                                 NaN  \n",
      "4                            NaN      NaN                                 NaN  \n",
      "5                            NaN      4.0                                 NaN  \n",
      "...                          ...      ...                                 ...  \n",
      "939                          NaN      NaN                                 NaN  \n",
      "940                          NaN      NaN                                 NaN  \n",
      "941                          NaN      NaN                                 NaN  \n",
      "942                          NaN      NaN                                 NaN  \n",
      "943                          NaN      NaN                                 NaN  \n",
      "\n",
      "[943 rows x 1664 columns]\n"
     ]
    }
   ],
   "source": [
    "movieDB = x_data.pivot_table(index=\"user_id\", columns=\"title\", values=\"rating\")\n",
    "print(movieDB)"
   ]
  },
  {
   "cell_type": "code",
   "execution_count": 76,
   "id": "a8ec1b2c-5c11-499f-8921-a0ac21b38ab3",
   "metadata": {},
   "outputs": [
    {
     "data": {
      "text/html": [
       "<div>\n",
       "<style scoped>\n",
       "    .dataframe tbody tr th:only-of-type {\n",
       "        vertical-align: middle;\n",
       "    }\n",
       "\n",
       "    .dataframe tbody tr th {\n",
       "        vertical-align: top;\n",
       "    }\n",
       "\n",
       "    .dataframe thead th {\n",
       "        text-align: right;\n",
       "    }\n",
       "</style>\n",
       "<table border=\"1\" class=\"dataframe\">\n",
       "  <thead>\n",
       "    <tr style=\"text-align: right;\">\n",
       "      <th></th>\n",
       "      <th>rating</th>\n",
       "      <th>No. of reviews</th>\n",
       "    </tr>\n",
       "    <tr>\n",
       "      <th>title</th>\n",
       "      <th></th>\n",
       "      <th></th>\n",
       "    </tr>\n",
       "  </thead>\n",
       "  <tbody>\n",
       "    <tr>\n",
       "      <th>Star Wars (1977)</th>\n",
       "      <td>4.358491</td>\n",
       "      <td>583</td>\n",
       "    </tr>\n",
       "    <tr>\n",
       "      <th>Contact (1997)</th>\n",
       "      <td>3.803536</td>\n",
       "      <td>509</td>\n",
       "    </tr>\n",
       "    <tr>\n",
       "      <th>Fargo (1996)</th>\n",
       "      <td>4.155512</td>\n",
       "      <td>508</td>\n",
       "    </tr>\n",
       "    <tr>\n",
       "      <th>Return of the Jedi (1983)</th>\n",
       "      <td>4.007890</td>\n",
       "      <td>507</td>\n",
       "    </tr>\n",
       "    <tr>\n",
       "      <th>Liar Liar (1997)</th>\n",
       "      <td>3.156701</td>\n",
       "      <td>485</td>\n",
       "    </tr>\n",
       "    <tr>\n",
       "      <th>...</th>\n",
       "      <td>...</td>\n",
       "      <td>...</td>\n",
       "    </tr>\n",
       "    <tr>\n",
       "      <th>Witness (1985)</th>\n",
       "      <td>4.000000</td>\n",
       "      <td>1</td>\n",
       "    </tr>\n",
       "    <tr>\n",
       "      <th>All Things Fair (1996)</th>\n",
       "      <td>3.000000</td>\n",
       "      <td>1</td>\n",
       "    </tr>\n",
       "    <tr>\n",
       "      <th>Wings of Courage (1995)</th>\n",
       "      <td>4.000000</td>\n",
       "      <td>1</td>\n",
       "    </tr>\n",
       "    <tr>\n",
       "      <th>Window to Paris (1994)</th>\n",
       "      <td>4.000000</td>\n",
       "      <td>1</td>\n",
       "    </tr>\n",
       "    <tr>\n",
       "      <th>Aiqing wansui (1994)</th>\n",
       "      <td>5.000000</td>\n",
       "      <td>1</td>\n",
       "    </tr>\n",
       "  </tbody>\n",
       "</table>\n",
       "<p>1664 rows × 2 columns</p>\n",
       "</div>"
      ],
      "text/plain": [
       "                             rating  No. of reviews\n",
       "title                                              \n",
       "Star Wars (1977)           4.358491             583\n",
       "Contact (1997)             3.803536             509\n",
       "Fargo (1996)               4.155512             508\n",
       "Return of the Jedi (1983)  4.007890             507\n",
       "Liar Liar (1997)           3.156701             485\n",
       "...                             ...             ...\n",
       "Witness (1985)             4.000000               1\n",
       "All Things Fair (1996)     3.000000               1\n",
       "Wings of Courage (1995)    4.000000               1\n",
       "Window to Paris (1994)     4.000000               1\n",
       "Aiqing wansui (1994)       5.000000               1\n",
       "\n",
       "[1664 rows x 2 columns]"
      ]
     },
     "execution_count": 76,
     "metadata": {},
     "output_type": "execute_result"
    }
   ],
   "source": [
    "quality.sort_values('No. of reviews', ascending=False)"
   ]
  },
  {
   "cell_type": "code",
   "execution_count": 77,
   "id": "5009f9c9-64f3-4bcb-9d17-6af7cd6b2e75",
   "metadata": {},
   "outputs": [],
   "source": [
    "gits_rating = movieDB['Ghost in the Shell (Kokaku kidotai) (1995)']"
   ]
  },
  {
   "cell_type": "code",
   "execution_count": 79,
   "id": "0c94c7c2-8a51-4af0-8bbe-466fe9cfbdb5",
   "metadata": {},
   "outputs": [],
   "source": [
    "gits_lite = movieDB.corrwith(gits_rating)"
   ]
  },
  {
   "cell_type": "code",
   "execution_count": 80,
   "id": "ab5ee6a3-bceb-47d6-a4bb-b90806fa3c4f",
   "metadata": {},
   "outputs": [],
   "source": [
    "gits_like = ajo.DataFrame(gits_lite, columns=['Similar'])"
   ]
  },
  {
   "cell_type": "code",
   "execution_count": 81,
   "id": "331c1b79-931a-4b76-ae8d-691b5ee8fb92",
   "metadata": {},
   "outputs": [],
   "source": [
    "gits_like.dropna(inplace = True)"
   ]
  },
  {
   "cell_type": "code",
   "execution_count": 82,
   "id": "f644ee49-50ae-4989-a8ad-de02232aa874",
   "metadata": {},
   "outputs": [
    {
     "data": {
      "text/html": [
       "<div>\n",
       "<style scoped>\n",
       "    .dataframe tbody tr th:only-of-type {\n",
       "        vertical-align: middle;\n",
       "    }\n",
       "\n",
       "    .dataframe tbody tr th {\n",
       "        vertical-align: top;\n",
       "    }\n",
       "\n",
       "    .dataframe thead th {\n",
       "        text-align: right;\n",
       "    }\n",
       "</style>\n",
       "<table border=\"1\" class=\"dataframe\">\n",
       "  <thead>\n",
       "    <tr style=\"text-align: right;\">\n",
       "      <th></th>\n",
       "      <th>Similar</th>\n",
       "    </tr>\n",
       "    <tr>\n",
       "      <th>title</th>\n",
       "      <th></th>\n",
       "    </tr>\n",
       "  </thead>\n",
       "  <tbody>\n",
       "    <tr>\n",
       "      <th>Gumby: The Movie (1995)</th>\n",
       "      <td>1.0</td>\n",
       "    </tr>\n",
       "    <tr>\n",
       "      <th>Walking Dead, The (1995)</th>\n",
       "      <td>1.0</td>\n",
       "    </tr>\n",
       "    <tr>\n",
       "      <th>Kansas City (1996)</th>\n",
       "      <td>1.0</td>\n",
       "    </tr>\n",
       "    <tr>\n",
       "      <th>Beyond Rangoon (1995)</th>\n",
       "      <td>1.0</td>\n",
       "    </tr>\n",
       "    <tr>\n",
       "      <th>Bhaji on the Beach (1993)</th>\n",
       "      <td>1.0</td>\n",
       "    </tr>\n",
       "    <tr>\n",
       "      <th>Madonna: Truth or Dare (1991)</th>\n",
       "      <td>1.0</td>\n",
       "    </tr>\n",
       "    <tr>\n",
       "      <th>Ghost in the Shell (Kokaku kidotai) (1995)</th>\n",
       "      <td>1.0</td>\n",
       "    </tr>\n",
       "    <tr>\n",
       "      <th>Before Sunrise (1995)</th>\n",
       "      <td>1.0</td>\n",
       "    </tr>\n",
       "    <tr>\n",
       "      <th>To Live (Huozhe) (1994)</th>\n",
       "      <td>1.0</td>\n",
       "    </tr>\n",
       "    <tr>\n",
       "      <th>Hackers (1995)</th>\n",
       "      <td>1.0</td>\n",
       "    </tr>\n",
       "  </tbody>\n",
       "</table>\n",
       "</div>"
      ],
      "text/plain": [
       "                                            Similar\n",
       "title                                              \n",
       "Gumby: The Movie (1995)                         1.0\n",
       "Walking Dead, The (1995)                        1.0\n",
       "Kansas City (1996)                              1.0\n",
       "Beyond Rangoon (1995)                           1.0\n",
       "Bhaji on the Beach (1993)                       1.0\n",
       "Madonna: Truth or Dare (1991)                   1.0\n",
       "Ghost in the Shell (Kokaku kidotai) (1995)      1.0\n",
       "Before Sunrise (1995)                           1.0\n",
       "To Live (Huozhe) (1994)                         1.0\n",
       "Hackers (1995)                                  1.0"
      ]
     },
     "execution_count": 82,
     "metadata": {},
     "output_type": "execute_result"
    }
   ],
   "source": [
    "gits_like.sort_values(\"Similar\", ascending=False).head(10)"
   ]
  },
  {
   "cell_type": "code",
   "execution_count": 83,
   "id": "ad295d53-1dce-4603-811d-f9ed15d0960f",
   "metadata": {},
   "outputs": [],
   "source": [
    "gits_like = gits_like.join(quality[\"No. of reviews\"])"
   ]
  },
  {
   "cell_type": "code",
   "execution_count": 86,
   "id": "022bb209-c4bb-4f11-b017-842ee8996ccf",
   "metadata": {},
   "outputs": [
    {
     "data": {
      "text/html": [
       "<div>\n",
       "<style scoped>\n",
       "    .dataframe tbody tr th:only-of-type {\n",
       "        vertical-align: middle;\n",
       "    }\n",
       "\n",
       "    .dataframe tbody tr th {\n",
       "        vertical-align: top;\n",
       "    }\n",
       "\n",
       "    .dataframe thead th {\n",
       "        text-align: right;\n",
       "    }\n",
       "</style>\n",
       "<table border=\"1\" class=\"dataframe\">\n",
       "  <thead>\n",
       "    <tr style=\"text-align: right;\">\n",
       "      <th></th>\n",
       "      <th>Similar</th>\n",
       "      <th>No. of reviews</th>\n",
       "    </tr>\n",
       "    <tr>\n",
       "      <th>title</th>\n",
       "      <th></th>\n",
       "      <th></th>\n",
       "    </tr>\n",
       "  </thead>\n",
       "  <tbody>\n",
       "    <tr>\n",
       "      <th>Room with a View, A (1986)</th>\n",
       "      <td>1.000000</td>\n",
       "      <td>134</td>\n",
       "    </tr>\n",
       "    <tr>\n",
       "      <th>Cold Comfort Farm (1995)</th>\n",
       "      <td>1.000000</td>\n",
       "      <td>125</td>\n",
       "    </tr>\n",
       "    <tr>\n",
       "      <th>White Squall (1996)</th>\n",
       "      <td>1.000000</td>\n",
       "      <td>85</td>\n",
       "    </tr>\n",
       "    <tr>\n",
       "      <th>Emma (1996)</th>\n",
       "      <td>1.000000</td>\n",
       "      <td>177</td>\n",
       "    </tr>\n",
       "    <tr>\n",
       "      <th>Welcome to the Dollhouse (1995)</th>\n",
       "      <td>1.000000</td>\n",
       "      <td>112</td>\n",
       "    </tr>\n",
       "    <tr>\n",
       "      <th>...</th>\n",
       "      <td>...</td>\n",
       "      <td>...</td>\n",
       "    </tr>\n",
       "    <tr>\n",
       "      <th>Mother (1996)</th>\n",
       "      <td>-0.970725</td>\n",
       "      <td>169</td>\n",
       "    </tr>\n",
       "    <tr>\n",
       "      <th>Everyone Says I Love You (1996)</th>\n",
       "      <td>-0.970725</td>\n",
       "      <td>168</td>\n",
       "    </tr>\n",
       "    <tr>\n",
       "      <th>I Know What You Did Last Summer (1997)</th>\n",
       "      <td>-1.000000</td>\n",
       "      <td>100</td>\n",
       "    </tr>\n",
       "    <tr>\n",
       "      <th>Big Night (1996)</th>\n",
       "      <td>-1.000000</td>\n",
       "      <td>171</td>\n",
       "    </tr>\n",
       "    <tr>\n",
       "      <th>Matilda (1996)</th>\n",
       "      <td>-1.000000</td>\n",
       "      <td>95</td>\n",
       "    </tr>\n",
       "  </tbody>\n",
       "</table>\n",
       "<p>384 rows × 2 columns</p>\n",
       "</div>"
      ],
      "text/plain": [
       "                                         Similar  No. of reviews\n",
       "title                                                           \n",
       "Room with a View, A (1986)              1.000000             134\n",
       "Cold Comfort Farm (1995)                1.000000             125\n",
       "White Squall (1996)                     1.000000              85\n",
       "Emma (1996)                             1.000000             177\n",
       "Welcome to the Dollhouse (1995)         1.000000             112\n",
       "...                                          ...             ...\n",
       "Mother (1996)                          -0.970725             169\n",
       "Everyone Says I Love You (1996)        -0.970725             168\n",
       "I Know What You Did Last Summer (1997) -1.000000             100\n",
       "Big Night (1996)                       -1.000000             171\n",
       "Matilda (1996)                         -1.000000              95\n",
       "\n",
       "[384 rows x 2 columns]"
      ]
     },
     "execution_count": 86,
     "metadata": {},
     "output_type": "execute_result"
    }
   ],
   "source": [
    "gits_like[gits_like[\"No. of reviews\"]>81].sort_values(\"Similar\", ascending=False)"
   ]
  },
  {
   "cell_type": "code",
   "execution_count": 88,
   "id": "10d104bf-8593-4514-9a00-ec330e39cfd5",
   "metadata": {},
   "outputs": [],
   "source": [
    "def recommendations(movie):\n",
    "    cinematic_rating = movieDB[movie]\n",
    "    cinematic_lite = movieDB.corrwith(cinematic_rating)\n",
    "    cinematic_like = ajo.DataFrame(cinematic_lite, columns=['Similar'])\n",
    "    cinematic_like.dropna(inplace = True)\n",
    "    cinematic_like = cinematic_like.join(quality[\"No. of reviews\"])\n",
    "    recommendationsforcinephiles = cinematic_like[cinematic_like[\"No. of reviews\"]>81].sort_values(\"Similar\", ascending=False)\n",
    "    return recommendationsforcinephiles"
   ]
  },
  {
   "cell_type": "code",
   "execution_count": null,
   "id": "e26ad8aa-3fbd-4e8a-b84a-856ec5067b06",
   "metadata": {},
   "outputs": [],
   "source": []
  }
 ],
 "metadata": {
  "kernelspec": {
   "display_name": "Python 3 (ipykernel)",
   "language": "python",
   "name": "python3"
  },
  "language_info": {
   "codemirror_mode": {
    "name": "ipython",
    "version": 3
   },
   "file_extension": ".py",
   "mimetype": "text/x-python",
   "name": "python",
   "nbconvert_exporter": "python",
   "pygments_lexer": "ipython3",
   "version": "3.12.7"
  }
 },
 "nbformat": 4,
 "nbformat_minor": 5
}
